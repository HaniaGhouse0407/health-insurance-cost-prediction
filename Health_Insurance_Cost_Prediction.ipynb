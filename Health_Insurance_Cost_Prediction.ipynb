{
  "cells": [
    {
      "cell_type": "markdown",
      "metadata": {
        "id": "view-in-github",
        "colab_type": "text"
      },
      "source": [
        "<a href=\"https://colab.research.google.com/github/HaniaGhouse0407/health-insurance-cost-prediction/blob/main/Health_Insurance_Cost_Prediction.ipynb\" target=\"_parent\"><img src=\"https://colab.research.google.com/assets/colab-badge.svg\" alt=\"Open In Colab\"/></a>"
      ]
    },
    {
      "cell_type": "code",
      "execution_count": null,
      "metadata": {
        "id": "OSMojFMyW2cc"
      },
      "outputs": [],
      "source": [
        "Lol l#Importing Libraries \n",
        "import numpy as np \n",
        "import pandas as pd \n",
        "import matplotlib.pyplot as plt\n",
        "import seaborn as sns"
      ]
    },
    {
      "cell_type": "code",
      "execution_count": null,
      "metadata": {
        "id": "YXpCqDzubKAw"
      },
      "outputs": [],
      "source": [
        "#Reading Dataframe \n",
        "df= pd.read_csv(\"https://raw.githubusercontent.com/mubeen161/Health-Insurance-Cost-Prediction/main/insurance.csv\")"
      ]
    },
    {
      "cell_type": "code",
      "execution_count": null,
      "metadata": {
        "colab": {
          "base_uri": "https://localhost:8080/",
          "height": 423
        },
        "id": "c_hUL4Xhva_J",
        "outputId": "36e381ff-73e7-43eb-f6ce-286a4639c562"
      },
      "outputs": [
        {
          "data": {
            "text/html": [
              "\n",
              "  <div id=\"df-487a7d47-ec8a-47fb-b950-8a57cffeec2b\">\n",
              "    <div class=\"colab-df-container\">\n",
              "      <div>\n",
              "<style scoped>\n",
              "    .dataframe tbody tr th:only-of-type {\n",
              "        vertical-align: middle;\n",
              "    }\n",
              "\n",
              "    .dataframe tbody tr th {\n",
              "        vertical-align: top;\n",
              "    }\n",
              "\n",
              "    .dataframe thead th {\n",
              "        text-align: right;\n",
              "    }\n",
              "</style>\n",
              "<table border=\"1\" class=\"dataframe\">\n",
              "  <thead>\n",
              "    <tr style=\"text-align: right;\">\n",
              "      <th></th>\n",
              "      <th>Age</th>\n",
              "      <th>Gender</th>\n",
              "      <th>BMI</th>\n",
              "      <th>Children</th>\n",
              "      <th>Smoker</th>\n",
              "      <th>Region</th>\n",
              "      <th>Charges</th>\n",
              "    </tr>\n",
              "  </thead>\n",
              "  <tbody>\n",
              "    <tr>\n",
              "      <th>0</th>\n",
              "      <td>19</td>\n",
              "      <td>female</td>\n",
              "      <td>27.900</td>\n",
              "      <td>0.0</td>\n",
              "      <td>yes</td>\n",
              "      <td>southwest</td>\n",
              "      <td>16884.92400</td>\n",
              "    </tr>\n",
              "    <tr>\n",
              "      <th>1</th>\n",
              "      <td>18</td>\n",
              "      <td>male</td>\n",
              "      <td>33.770</td>\n",
              "      <td>1.0</td>\n",
              "      <td>no</td>\n",
              "      <td>southeast</td>\n",
              "      <td>1725.55230</td>\n",
              "    </tr>\n",
              "    <tr>\n",
              "      <th>2</th>\n",
              "      <td>28</td>\n",
              "      <td>male</td>\n",
              "      <td>33.000</td>\n",
              "      <td>NaN</td>\n",
              "      <td>no</td>\n",
              "      <td>southeast</td>\n",
              "      <td>4449.46200</td>\n",
              "    </tr>\n",
              "    <tr>\n",
              "      <th>3</th>\n",
              "      <td>33</td>\n",
              "      <td>male</td>\n",
              "      <td>22.705</td>\n",
              "      <td>0.0</td>\n",
              "      <td>no</td>\n",
              "      <td>northwest</td>\n",
              "      <td>21984.47061</td>\n",
              "    </tr>\n",
              "    <tr>\n",
              "      <th>4</th>\n",
              "      <td>32</td>\n",
              "      <td>male</td>\n",
              "      <td>28.880</td>\n",
              "      <td>0.0</td>\n",
              "      <td>no</td>\n",
              "      <td>northwest</td>\n",
              "      <td>3866.85520</td>\n",
              "    </tr>\n",
              "    <tr>\n",
              "      <th>...</th>\n",
              "      <td>...</td>\n",
              "      <td>...</td>\n",
              "      <td>...</td>\n",
              "      <td>...</td>\n",
              "      <td>...</td>\n",
              "      <td>...</td>\n",
              "      <td>...</td>\n",
              "    </tr>\n",
              "    <tr>\n",
              "      <th>1333</th>\n",
              "      <td>50</td>\n",
              "      <td>male</td>\n",
              "      <td>30.970</td>\n",
              "      <td>3.0</td>\n",
              "      <td>no</td>\n",
              "      <td>northwest</td>\n",
              "      <td>10600.54830</td>\n",
              "    </tr>\n",
              "    <tr>\n",
              "      <th>1334</th>\n",
              "      <td>18</td>\n",
              "      <td>female</td>\n",
              "      <td>31.920</td>\n",
              "      <td>0.0</td>\n",
              "      <td>no</td>\n",
              "      <td>northeast</td>\n",
              "      <td>2205.98080</td>\n",
              "    </tr>\n",
              "    <tr>\n",
              "      <th>1335</th>\n",
              "      <td>18</td>\n",
              "      <td>female</td>\n",
              "      <td>36.850</td>\n",
              "      <td>0.0</td>\n",
              "      <td>no</td>\n",
              "      <td>southeast</td>\n",
              "      <td>1629.83350</td>\n",
              "    </tr>\n",
              "    <tr>\n",
              "      <th>1336</th>\n",
              "      <td>21</td>\n",
              "      <td>female</td>\n",
              "      <td>25.800</td>\n",
              "      <td>NaN</td>\n",
              "      <td>no</td>\n",
              "      <td>southwest</td>\n",
              "      <td>2007.94500</td>\n",
              "    </tr>\n",
              "    <tr>\n",
              "      <th>1337</th>\n",
              "      <td>61</td>\n",
              "      <td>female</td>\n",
              "      <td>29.070</td>\n",
              "      <td>0.0</td>\n",
              "      <td>yes</td>\n",
              "      <td>northwest</td>\n",
              "      <td>29141.36030</td>\n",
              "    </tr>\n",
              "  </tbody>\n",
              "</table>\n",
              "<p>1338 rows × 7 columns</p>\n",
              "</div>\n",
              "      <button class=\"colab-df-convert\" onclick=\"convertToInteractive('df-487a7d47-ec8a-47fb-b950-8a57cffeec2b')\"\n",
              "              title=\"Convert this dataframe to an interactive table.\"\n",
              "              style=\"display:none;\">\n",
              "        \n",
              "  <svg xmlns=\"http://www.w3.org/2000/svg\" height=\"24px\"viewBox=\"0 0 24 24\"\n",
              "       width=\"24px\">\n",
              "    <path d=\"M0 0h24v24H0V0z\" fill=\"none\"/>\n",
              "    <path d=\"M18.56 5.44l.94 2.06.94-2.06 2.06-.94-2.06-.94-.94-2.06-.94 2.06-2.06.94zm-11 1L8.5 8.5l.94-2.06 2.06-.94-2.06-.94L8.5 2.5l-.94 2.06-2.06.94zm10 10l.94 2.06.94-2.06 2.06-.94-2.06-.94-.94-2.06-.94 2.06-2.06.94z\"/><path d=\"M17.41 7.96l-1.37-1.37c-.4-.4-.92-.59-1.43-.59-.52 0-1.04.2-1.43.59L10.3 9.45l-7.72 7.72c-.78.78-.78 2.05 0 2.83L4 21.41c.39.39.9.59 1.41.59.51 0 1.02-.2 1.41-.59l7.78-7.78 2.81-2.81c.8-.78.8-2.07 0-2.86zM5.41 20L4 18.59l7.72-7.72 1.47 1.35L5.41 20z\"/>\n",
              "  </svg>\n",
              "      </button>\n",
              "      \n",
              "  <style>\n",
              "    .colab-df-container {\n",
              "      display:flex;\n",
              "      flex-wrap:wrap;\n",
              "      gap: 12px;\n",
              "    }\n",
              "\n",
              "    .colab-df-convert {\n",
              "      background-color: #E8F0FE;\n",
              "      border: none;\n",
              "      border-radius: 50%;\n",
              "      cursor: pointer;\n",
              "      display: none;\n",
              "      fill: #1967D2;\n",
              "      height: 32px;\n",
              "      padding: 0 0 0 0;\n",
              "      width: 32px;\n",
              "    }\n",
              "\n",
              "    .colab-df-convert:hover {\n",
              "      background-color: #E2EBFA;\n",
              "      box-shadow: 0px 1px 2px rgba(60, 64, 67, 0.3), 0px 1px 3px 1px rgba(60, 64, 67, 0.15);\n",
              "      fill: #174EA6;\n",
              "    }\n",
              "\n",
              "    [theme=dark] .colab-df-convert {\n",
              "      background-color: #3B4455;\n",
              "      fill: #D2E3FC;\n",
              "    }\n",
              "\n",
              "    [theme=dark] .colab-df-convert:hover {\n",
              "      background-color: #434B5C;\n",
              "      box-shadow: 0px 1px 3px 1px rgba(0, 0, 0, 0.15);\n",
              "      filter: drop-shadow(0px 1px 2px rgba(0, 0, 0, 0.3));\n",
              "      fill: #FFFFFF;\n",
              "    }\n",
              "  </style>\n",
              "\n",
              "      <script>\n",
              "        const buttonEl =\n",
              "          document.querySelector('#df-487a7d47-ec8a-47fb-b950-8a57cffeec2b button.colab-df-convert');\n",
              "        buttonEl.style.display =\n",
              "          google.colab.kernel.accessAllowed ? 'block' : 'none';\n",
              "\n",
              "        async function convertToInteractive(key) {\n",
              "          const element = document.querySelector('#df-487a7d47-ec8a-47fb-b950-8a57cffeec2b');\n",
              "          const dataTable =\n",
              "            await google.colab.kernel.invokeFunction('convertToInteractive',\n",
              "                                                     [key], {});\n",
              "          if (!dataTable) return;\n",
              "\n",
              "          const docLinkHtml = 'Like what you see? Visit the ' +\n",
              "            '<a target=\"_blank\" href=https://colab.research.google.com/notebooks/data_table.ipynb>data table notebook</a>'\n",
              "            + ' to learn more about interactive tables.';\n",
              "          element.innerHTML = '';\n",
              "          dataTable['output_type'] = 'display_data';\n",
              "          await google.colab.output.renderOutput(dataTable, element);\n",
              "          const docLink = document.createElement('div');\n",
              "          docLink.innerHTML = docLinkHtml;\n",
              "          element.appendChild(docLink);\n",
              "        }\n",
              "      </script>\n",
              "    </div>\n",
              "  </div>\n",
              "  "
            ],
            "text/plain": [
              "      Age  Gender     BMI  Children Smoker     Region      Charges\n",
              "0      19  female  27.900       0.0    yes  southwest  16884.92400\n",
              "1      18    male  33.770       1.0     no  southeast   1725.55230\n",
              "2      28    male  33.000       NaN     no  southeast   4449.46200\n",
              "3      33    male  22.705       0.0     no  northwest  21984.47061\n",
              "4      32    male  28.880       0.0     no  northwest   3866.85520\n",
              "...   ...     ...     ...       ...    ...        ...          ...\n",
              "1333   50    male  30.970       3.0     no  northwest  10600.54830\n",
              "1334   18  female  31.920       0.0     no  northeast   2205.98080\n",
              "1335   18  female  36.850       0.0     no  southeast   1629.83350\n",
              "1336   21  female  25.800       NaN     no  southwest   2007.94500\n",
              "1337   61  female  29.070       0.0    yes  northwest  29141.36030\n",
              "\n",
              "[1338 rows x 7 columns]"
            ]
          },
          "execution_count": 3,
          "metadata": {},
          "output_type": "execute_result"
        }
      ],
      "source": [
        "df"
      ]
    },
    {
      "cell_type": "code",
      "execution_count": null,
      "metadata": {
        "colab": {
          "base_uri": "https://localhost:8080/"
        },
        "id": "7gKeXKMZbS4X",
        "outputId": "6a6452ed-9db1-415e-db12-379d7373f0cf"
      },
      "outputs": [
        {
          "data": {
            "text/plain": [
              "(1338, 7)"
            ]
          },
          "execution_count": 14,
          "metadata": {},
          "output_type": "execute_result"
        }
      ],
      "source": [
        "df.shape"
      ]
    },
    {
      "cell_type": "code",
      "execution_count": null,
      "metadata": {
        "colab": {
          "base_uri": "https://localhost:8080/",
          "height": 363
        },
        "id": "-qrswX8wbPuJ",
        "outputId": "a8301ab6-4418-41b7-d349-07ed48d871ef"
      },
      "outputs": [
        {
          "data": {
            "text/html": [
              "\n",
              "  <div id=\"df-7d06d286-1f1e-42e3-b2c1-3d9bb146e623\">\n",
              "    <div class=\"colab-df-container\">\n",
              "      <div>\n",
              "<style scoped>\n",
              "    .dataframe tbody tr th:only-of-type {\n",
              "        vertical-align: middle;\n",
              "    }\n",
              "\n",
              "    .dataframe tbody tr th {\n",
              "        vertical-align: top;\n",
              "    }\n",
              "\n",
              "    .dataframe thead th {\n",
              "        text-align: right;\n",
              "    }\n",
              "</style>\n",
              "<table border=\"1\" class=\"dataframe\">\n",
              "  <thead>\n",
              "    <tr style=\"text-align: right;\">\n",
              "      <th></th>\n",
              "      <th>Age</th>\n",
              "      <th>Gender</th>\n",
              "      <th>BMI</th>\n",
              "      <th>Children</th>\n",
              "      <th>Smoker</th>\n",
              "      <th>Region</th>\n",
              "      <th>Charges</th>\n",
              "    </tr>\n",
              "  </thead>\n",
              "  <tbody>\n",
              "    <tr>\n",
              "      <th>0</th>\n",
              "      <td>19</td>\n",
              "      <td>female</td>\n",
              "      <td>27.900</td>\n",
              "      <td>0.0</td>\n",
              "      <td>yes</td>\n",
              "      <td>southwest</td>\n",
              "      <td>16884.92400</td>\n",
              "    </tr>\n",
              "    <tr>\n",
              "      <th>1</th>\n",
              "      <td>18</td>\n",
              "      <td>male</td>\n",
              "      <td>33.770</td>\n",
              "      <td>1.0</td>\n",
              "      <td>no</td>\n",
              "      <td>southeast</td>\n",
              "      <td>1725.55230</td>\n",
              "    </tr>\n",
              "    <tr>\n",
              "      <th>2</th>\n",
              "      <td>28</td>\n",
              "      <td>male</td>\n",
              "      <td>33.000</td>\n",
              "      <td>NaN</td>\n",
              "      <td>no</td>\n",
              "      <td>southeast</td>\n",
              "      <td>4449.46200</td>\n",
              "    </tr>\n",
              "    <tr>\n",
              "      <th>3</th>\n",
              "      <td>33</td>\n",
              "      <td>male</td>\n",
              "      <td>22.705</td>\n",
              "      <td>0.0</td>\n",
              "      <td>no</td>\n",
              "      <td>northwest</td>\n",
              "      <td>21984.47061</td>\n",
              "    </tr>\n",
              "    <tr>\n",
              "      <th>4</th>\n",
              "      <td>32</td>\n",
              "      <td>male</td>\n",
              "      <td>28.880</td>\n",
              "      <td>0.0</td>\n",
              "      <td>no</td>\n",
              "      <td>northwest</td>\n",
              "      <td>3866.85520</td>\n",
              "    </tr>\n",
              "    <tr>\n",
              "      <th>5</th>\n",
              "      <td>31</td>\n",
              "      <td>female</td>\n",
              "      <td>25.740</td>\n",
              "      <td>0.0</td>\n",
              "      <td>no</td>\n",
              "      <td>southeast</td>\n",
              "      <td>3756.62160</td>\n",
              "    </tr>\n",
              "    <tr>\n",
              "      <th>6</th>\n",
              "      <td>46</td>\n",
              "      <td>female</td>\n",
              "      <td>33.440</td>\n",
              "      <td>1.0</td>\n",
              "      <td>no</td>\n",
              "      <td>southeast</td>\n",
              "      <td>8240.58960</td>\n",
              "    </tr>\n",
              "    <tr>\n",
              "      <th>7</th>\n",
              "      <td>37</td>\n",
              "      <td>female</td>\n",
              "      <td>27.740</td>\n",
              "      <td>3.0</td>\n",
              "      <td>no</td>\n",
              "      <td>northwest</td>\n",
              "      <td>7281.50560</td>\n",
              "    </tr>\n",
              "    <tr>\n",
              "      <th>8</th>\n",
              "      <td>37</td>\n",
              "      <td>male</td>\n",
              "      <td>29.830</td>\n",
              "      <td>2.0</td>\n",
              "      <td>no</td>\n",
              "      <td>northeast</td>\n",
              "      <td>6406.41070</td>\n",
              "    </tr>\n",
              "    <tr>\n",
              "      <th>9</th>\n",
              "      <td>60</td>\n",
              "      <td>female</td>\n",
              "      <td>25.840</td>\n",
              "      <td>0.0</td>\n",
              "      <td>no</td>\n",
              "      <td>northwest</td>\n",
              "      <td>28923.13692</td>\n",
              "    </tr>\n",
              "  </tbody>\n",
              "</table>\n",
              "</div>\n",
              "      <button class=\"colab-df-convert\" onclick=\"convertToInteractive('df-7d06d286-1f1e-42e3-b2c1-3d9bb146e623')\"\n",
              "              title=\"Convert this dataframe to an interactive table.\"\n",
              "              style=\"display:none;\">\n",
              "        \n",
              "  <svg xmlns=\"http://www.w3.org/2000/svg\" height=\"24px\"viewBox=\"0 0 24 24\"\n",
              "       width=\"24px\">\n",
              "    <path d=\"M0 0h24v24H0V0z\" fill=\"none\"/>\n",
              "    <path d=\"M18.56 5.44l.94 2.06.94-2.06 2.06-.94-2.06-.94-.94-2.06-.94 2.06-2.06.94zm-11 1L8.5 8.5l.94-2.06 2.06-.94-2.06-.94L8.5 2.5l-.94 2.06-2.06.94zm10 10l.94 2.06.94-2.06 2.06-.94-2.06-.94-.94-2.06-.94 2.06-2.06.94z\"/><path d=\"M17.41 7.96l-1.37-1.37c-.4-.4-.92-.59-1.43-.59-.52 0-1.04.2-1.43.59L10.3 9.45l-7.72 7.72c-.78.78-.78 2.05 0 2.83L4 21.41c.39.39.9.59 1.41.59.51 0 1.02-.2 1.41-.59l7.78-7.78 2.81-2.81c.8-.78.8-2.07 0-2.86zM5.41 20L4 18.59l7.72-7.72 1.47 1.35L5.41 20z\"/>\n",
              "  </svg>\n",
              "      </button>\n",
              "      \n",
              "  <style>\n",
              "    .colab-df-container {\n",
              "      display:flex;\n",
              "      flex-wrap:wrap;\n",
              "      gap: 12px;\n",
              "    }\n",
              "\n",
              "    .colab-df-convert {\n",
              "      background-color: #E8F0FE;\n",
              "      border: none;\n",
              "      border-radius: 50%;\n",
              "      cursor: pointer;\n",
              "      display: none;\n",
              "      fill: #1967D2;\n",
              "      height: 32px;\n",
              "      padding: 0 0 0 0;\n",
              "      width: 32px;\n",
              "    }\n",
              "\n",
              "    .colab-df-convert:hover {\n",
              "      background-color: #E2EBFA;\n",
              "      box-shadow: 0px 1px 2px rgba(60, 64, 67, 0.3), 0px 1px 3px 1px rgba(60, 64, 67, 0.15);\n",
              "      fill: #174EA6;\n",
              "    }\n",
              "\n",
              "    [theme=dark] .colab-df-convert {\n",
              "      background-color: #3B4455;\n",
              "      fill: #D2E3FC;\n",
              "    }\n",
              "\n",
              "    [theme=dark] .colab-df-convert:hover {\n",
              "      background-color: #434B5C;\n",
              "      box-shadow: 0px 1px 3px 1px rgba(0, 0, 0, 0.15);\n",
              "      filter: drop-shadow(0px 1px 2px rgba(0, 0, 0, 0.3));\n",
              "      fill: #FFFFFF;\n",
              "    }\n",
              "  </style>\n",
              "\n",
              "      <script>\n",
              "        const buttonEl =\n",
              "          document.querySelector('#df-7d06d286-1f1e-42e3-b2c1-3d9bb146e623 button.colab-df-convert');\n",
              "        buttonEl.style.display =\n",
              "          google.colab.kernel.accessAllowed ? 'block' : 'none';\n",
              "\n",
              "        async function convertToInteractive(key) {\n",
              "          const element = document.querySelector('#df-7d06d286-1f1e-42e3-b2c1-3d9bb146e623');\n",
              "          const dataTable =\n",
              "            await google.colab.kernel.invokeFunction('convertToInteractive',\n",
              "                                                     [key], {});\n",
              "          if (!dataTable) return;\n",
              "\n",
              "          const docLinkHtml = 'Like what you see? Visit the ' +\n",
              "            '<a target=\"_blank\" href=https://colab.research.google.com/notebooks/data_table.ipynb>data table notebook</a>'\n",
              "            + ' to learn more about interactive tables.';\n",
              "          element.innerHTML = '';\n",
              "          dataTable['output_type'] = 'display_data';\n",
              "          await google.colab.output.renderOutput(dataTable, element);\n",
              "          const docLink = document.createElement('div');\n",
              "          docLink.innerHTML = docLinkHtml;\n",
              "          element.appendChild(docLink);\n",
              "        }\n",
              "      </script>\n",
              "    </div>\n",
              "  </div>\n",
              "  "
            ],
            "text/plain": [
              "   Age  Gender     BMI  Children Smoker     Region      Charges\n",
              "0   19  female  27.900       0.0    yes  southwest  16884.92400\n",
              "1   18    male  33.770       1.0     no  southeast   1725.55230\n",
              "2   28    male  33.000       NaN     no  southeast   4449.46200\n",
              "3   33    male  22.705       0.0     no  northwest  21984.47061\n",
              "4   32    male  28.880       0.0     no  northwest   3866.85520\n",
              "5   31  female  25.740       0.0     no  southeast   3756.62160\n",
              "6   46  female  33.440       1.0     no  southeast   8240.58960\n",
              "7   37  female  27.740       3.0     no  northwest   7281.50560\n",
              "8   37    male  29.830       2.0     no  northeast   6406.41070\n",
              "9   60  female  25.840       0.0     no  northwest  28923.13692"
            ]
          },
          "execution_count": 16,
          "metadata": {},
          "output_type": "execute_result"
        }
      ],
      "source": [
        "df.head(10)"
      ]
    },
    {
      "cell_type": "code",
      "execution_count": null,
      "metadata": {
        "colab": {
          "base_uri": "https://localhost:8080/",
          "height": 206
        },
        "id": "F-dWIev5bRsH",
        "outputId": "5a3d8050-f144-435a-f102-76178e8c9372"
      },
      "outputs": [
        {
          "data": {
            "text/html": [
              "\n",
              "  <div id=\"df-6f3e3ddd-a73f-425c-9402-ee33bc2c54f7\">\n",
              "    <div class=\"colab-df-container\">\n",
              "      <div>\n",
              "<style scoped>\n",
              "    .dataframe tbody tr th:only-of-type {\n",
              "        vertical-align: middle;\n",
              "    }\n",
              "\n",
              "    .dataframe tbody tr th {\n",
              "        vertical-align: top;\n",
              "    }\n",
              "\n",
              "    .dataframe thead th {\n",
              "        text-align: right;\n",
              "    }\n",
              "</style>\n",
              "<table border=\"1\" class=\"dataframe\">\n",
              "  <thead>\n",
              "    <tr style=\"text-align: right;\">\n",
              "      <th></th>\n",
              "      <th>Age</th>\n",
              "      <th>Gender</th>\n",
              "      <th>BMI</th>\n",
              "      <th>Children</th>\n",
              "      <th>Smoker</th>\n",
              "      <th>Region</th>\n",
              "      <th>Charges</th>\n",
              "    </tr>\n",
              "  </thead>\n",
              "  <tbody>\n",
              "    <tr>\n",
              "      <th>1333</th>\n",
              "      <td>50</td>\n",
              "      <td>male</td>\n",
              "      <td>30.97</td>\n",
              "      <td>3.0</td>\n",
              "      <td>no</td>\n",
              "      <td>northwest</td>\n",
              "      <td>10600.5483</td>\n",
              "    </tr>\n",
              "    <tr>\n",
              "      <th>1334</th>\n",
              "      <td>18</td>\n",
              "      <td>female</td>\n",
              "      <td>31.92</td>\n",
              "      <td>0.0</td>\n",
              "      <td>no</td>\n",
              "      <td>northeast</td>\n",
              "      <td>2205.9808</td>\n",
              "    </tr>\n",
              "    <tr>\n",
              "      <th>1335</th>\n",
              "      <td>18</td>\n",
              "      <td>female</td>\n",
              "      <td>36.85</td>\n",
              "      <td>0.0</td>\n",
              "      <td>no</td>\n",
              "      <td>southeast</td>\n",
              "      <td>1629.8335</td>\n",
              "    </tr>\n",
              "    <tr>\n",
              "      <th>1336</th>\n",
              "      <td>21</td>\n",
              "      <td>female</td>\n",
              "      <td>25.80</td>\n",
              "      <td>NaN</td>\n",
              "      <td>no</td>\n",
              "      <td>southwest</td>\n",
              "      <td>2007.9450</td>\n",
              "    </tr>\n",
              "    <tr>\n",
              "      <th>1337</th>\n",
              "      <td>61</td>\n",
              "      <td>female</td>\n",
              "      <td>29.07</td>\n",
              "      <td>0.0</td>\n",
              "      <td>yes</td>\n",
              "      <td>northwest</td>\n",
              "      <td>29141.3603</td>\n",
              "    </tr>\n",
              "  </tbody>\n",
              "</table>\n",
              "</div>\n",
              "      <button class=\"colab-df-convert\" onclick=\"convertToInteractive('df-6f3e3ddd-a73f-425c-9402-ee33bc2c54f7')\"\n",
              "              title=\"Convert this dataframe to an interactive table.\"\n",
              "              style=\"display:none;\">\n",
              "        \n",
              "  <svg xmlns=\"http://www.w3.org/2000/svg\" height=\"24px\"viewBox=\"0 0 24 24\"\n",
              "       width=\"24px\">\n",
              "    <path d=\"M0 0h24v24H0V0z\" fill=\"none\"/>\n",
              "    <path d=\"M18.56 5.44l.94 2.06.94-2.06 2.06-.94-2.06-.94-.94-2.06-.94 2.06-2.06.94zm-11 1L8.5 8.5l.94-2.06 2.06-.94-2.06-.94L8.5 2.5l-.94 2.06-2.06.94zm10 10l.94 2.06.94-2.06 2.06-.94-2.06-.94-.94-2.06-.94 2.06-2.06.94z\"/><path d=\"M17.41 7.96l-1.37-1.37c-.4-.4-.92-.59-1.43-.59-.52 0-1.04.2-1.43.59L10.3 9.45l-7.72 7.72c-.78.78-.78 2.05 0 2.83L4 21.41c.39.39.9.59 1.41.59.51 0 1.02-.2 1.41-.59l7.78-7.78 2.81-2.81c.8-.78.8-2.07 0-2.86zM5.41 20L4 18.59l7.72-7.72 1.47 1.35L5.41 20z\"/>\n",
              "  </svg>\n",
              "      </button>\n",
              "      \n",
              "  <style>\n",
              "    .colab-df-container {\n",
              "      display:flex;\n",
              "      flex-wrap:wrap;\n",
              "      gap: 12px;\n",
              "    }\n",
              "\n",
              "    .colab-df-convert {\n",
              "      background-color: #E8F0FE;\n",
              "      border: none;\n",
              "      border-radius: 50%;\n",
              "      cursor: pointer;\n",
              "      display: none;\n",
              "      fill: #1967D2;\n",
              "      height: 32px;\n",
              "      padding: 0 0 0 0;\n",
              "      width: 32px;\n",
              "    }\n",
              "\n",
              "    .colab-df-convert:hover {\n",
              "      background-color: #E2EBFA;\n",
              "      box-shadow: 0px 1px 2px rgba(60, 64, 67, 0.3), 0px 1px 3px 1px rgba(60, 64, 67, 0.15);\n",
              "      fill: #174EA6;\n",
              "    }\n",
              "\n",
              "    [theme=dark] .colab-df-convert {\n",
              "      background-color: #3B4455;\n",
              "      fill: #D2E3FC;\n",
              "    }\n",
              "\n",
              "    [theme=dark] .colab-df-convert:hover {\n",
              "      background-color: #434B5C;\n",
              "      box-shadow: 0px 1px 3px 1px rgba(0, 0, 0, 0.15);\n",
              "      filter: drop-shadow(0px 1px 2px rgba(0, 0, 0, 0.3));\n",
              "      fill: #FFFFFF;\n",
              "    }\n",
              "  </style>\n",
              "\n",
              "      <script>\n",
              "        const buttonEl =\n",
              "          document.querySelector('#df-6f3e3ddd-a73f-425c-9402-ee33bc2c54f7 button.colab-df-convert');\n",
              "        buttonEl.style.display =\n",
              "          google.colab.kernel.accessAllowed ? 'block' : 'none';\n",
              "\n",
              "        async function convertToInteractive(key) {\n",
              "          const element = document.querySelector('#df-6f3e3ddd-a73f-425c-9402-ee33bc2c54f7');\n",
              "          const dataTable =\n",
              "            await google.colab.kernel.invokeFunction('convertToInteractive',\n",
              "                                                     [key], {});\n",
              "          if (!dataTable) return;\n",
              "\n",
              "          const docLinkHtml = 'Like what you see? Visit the ' +\n",
              "            '<a target=\"_blank\" href=https://colab.research.google.com/notebooks/data_table.ipynb>data table notebook</a>'\n",
              "            + ' to learn more about interactive tables.';\n",
              "          element.innerHTML = '';\n",
              "          dataTable['output_type'] = 'display_data';\n",
              "          await google.colab.output.renderOutput(dataTable, element);\n",
              "          const docLink = document.createElement('div');\n",
              "          docLink.innerHTML = docLinkHtml;\n",
              "          element.appendChild(docLink);\n",
              "        }\n",
              "      </script>\n",
              "    </div>\n",
              "  </div>\n",
              "  "
            ],
            "text/plain": [
              "      Age  Gender    BMI  Children Smoker     Region     Charges\n",
              "1333   50    male  30.97       3.0     no  northwest  10600.5483\n",
              "1334   18  female  31.92       0.0     no  northeast   2205.9808\n",
              "1335   18  female  36.85       0.0     no  southeast   1629.8335\n",
              "1336   21  female  25.80       NaN     no  southwest   2007.9450\n",
              "1337   61  female  29.07       0.0    yes  northwest  29141.3603"
            ]
          },
          "execution_count": 7,
          "metadata": {},
          "output_type": "execute_result"
        }
      ],
      "source": [
        "df.tail()"
      ]
    },
    {
      "cell_type": "code",
      "execution_count": null,
      "metadata": {
        "colab": {
          "base_uri": "https://localhost:8080/"
        },
        "id": "DI5OHfBQeAjz",
        "outputId": "2ba4f31c-6492-4254-a1c7-2d9cf6161ff6"
      },
      "outputs": [
        {
          "data": {
            "text/plain": [
              "Index(['Age', 'Gender', 'BMI', 'Children', 'Smoker', 'Region', 'Charges'], dtype='object')"
            ]
          },
          "execution_count": 17,
          "metadata": {},
          "output_type": "execute_result"
        }
      ],
      "source": [
        "df.columns"
      ]
    },
    {
      "cell_type": "code",
      "execution_count": null,
      "metadata": {
        "colab": {
          "base_uri": "https://localhost:8080/",
          "height": 300
        },
        "id": "aUSTD14KeB4r",
        "outputId": "8bdd3ac4-2708-4bc4-8605-604fb6207280"
      },
      "outputs": [
        {
          "data": {
            "text/html": [
              "\n",
              "  <div id=\"df-76a033dc-40ab-4262-b192-c95b9c796561\">\n",
              "    <div class=\"colab-df-container\">\n",
              "      <div>\n",
              "<style scoped>\n",
              "    .dataframe tbody tr th:only-of-type {\n",
              "        vertical-align: middle;\n",
              "    }\n",
              "\n",
              "    .dataframe tbody tr th {\n",
              "        vertical-align: top;\n",
              "    }\n",
              "\n",
              "    .dataframe thead th {\n",
              "        text-align: right;\n",
              "    }\n",
              "</style>\n",
              "<table border=\"1\" class=\"dataframe\">\n",
              "  <thead>\n",
              "    <tr style=\"text-align: right;\">\n",
              "      <th></th>\n",
              "      <th>Age</th>\n",
              "      <th>BMI</th>\n",
              "      <th>Children</th>\n",
              "      <th>Charges</th>\n",
              "    </tr>\n",
              "  </thead>\n",
              "  <tbody>\n",
              "    <tr>\n",
              "      <th>count</th>\n",
              "      <td>1338.000000</td>\n",
              "      <td>1338.000000</td>\n",
              "      <td>1295.000000</td>\n",
              "      <td>1338.000000</td>\n",
              "    </tr>\n",
              "    <tr>\n",
              "      <th>mean</th>\n",
              "      <td>39.207025</td>\n",
              "      <td>30.663397</td>\n",
              "      <td>1.097297</td>\n",
              "      <td>13270.422265</td>\n",
              "    </tr>\n",
              "    <tr>\n",
              "      <th>std</th>\n",
              "      <td>14.049960</td>\n",
              "      <td>6.098187</td>\n",
              "      <td>1.208465</td>\n",
              "      <td>12110.011237</td>\n",
              "    </tr>\n",
              "    <tr>\n",
              "      <th>min</th>\n",
              "      <td>18.000000</td>\n",
              "      <td>15.960000</td>\n",
              "      <td>0.000000</td>\n",
              "      <td>1121.873900</td>\n",
              "    </tr>\n",
              "    <tr>\n",
              "      <th>25%</th>\n",
              "      <td>27.000000</td>\n",
              "      <td>26.296250</td>\n",
              "      <td>0.000000</td>\n",
              "      <td>4740.287150</td>\n",
              "    </tr>\n",
              "    <tr>\n",
              "      <th>50%</th>\n",
              "      <td>39.000000</td>\n",
              "      <td>30.400000</td>\n",
              "      <td>1.000000</td>\n",
              "      <td>9382.033000</td>\n",
              "    </tr>\n",
              "    <tr>\n",
              "      <th>75%</th>\n",
              "      <td>51.000000</td>\n",
              "      <td>34.693750</td>\n",
              "      <td>2.000000</td>\n",
              "      <td>16639.912515</td>\n",
              "    </tr>\n",
              "    <tr>\n",
              "      <th>max</th>\n",
              "      <td>64.000000</td>\n",
              "      <td>53.130000</td>\n",
              "      <td>5.000000</td>\n",
              "      <td>63770.428010</td>\n",
              "    </tr>\n",
              "  </tbody>\n",
              "</table>\n",
              "</div>\n",
              "      <button class=\"colab-df-convert\" onclick=\"convertToInteractive('df-76a033dc-40ab-4262-b192-c95b9c796561')\"\n",
              "              title=\"Convert this dataframe to an interactive table.\"\n",
              "              style=\"display:none;\">\n",
              "        \n",
              "  <svg xmlns=\"http://www.w3.org/2000/svg\" height=\"24px\"viewBox=\"0 0 24 24\"\n",
              "       width=\"24px\">\n",
              "    <path d=\"M0 0h24v24H0V0z\" fill=\"none\"/>\n",
              "    <path d=\"M18.56 5.44l.94 2.06.94-2.06 2.06-.94-2.06-.94-.94-2.06-.94 2.06-2.06.94zm-11 1L8.5 8.5l.94-2.06 2.06-.94-2.06-.94L8.5 2.5l-.94 2.06-2.06.94zm10 10l.94 2.06.94-2.06 2.06-.94-2.06-.94-.94-2.06-.94 2.06-2.06.94z\"/><path d=\"M17.41 7.96l-1.37-1.37c-.4-.4-.92-.59-1.43-.59-.52 0-1.04.2-1.43.59L10.3 9.45l-7.72 7.72c-.78.78-.78 2.05 0 2.83L4 21.41c.39.39.9.59 1.41.59.51 0 1.02-.2 1.41-.59l7.78-7.78 2.81-2.81c.8-.78.8-2.07 0-2.86zM5.41 20L4 18.59l7.72-7.72 1.47 1.35L5.41 20z\"/>\n",
              "  </svg>\n",
              "      </button>\n",
              "      \n",
              "  <style>\n",
              "    .colab-df-container {\n",
              "      display:flex;\n",
              "      flex-wrap:wrap;\n",
              "      gap: 12px;\n",
              "    }\n",
              "\n",
              "    .colab-df-convert {\n",
              "      background-color: #E8F0FE;\n",
              "      border: none;\n",
              "      border-radius: 50%;\n",
              "      cursor: pointer;\n",
              "      display: none;\n",
              "      fill: #1967D2;\n",
              "      height: 32px;\n",
              "      padding: 0 0 0 0;\n",
              "      width: 32px;\n",
              "    }\n",
              "\n",
              "    .colab-df-convert:hover {\n",
              "      background-color: #E2EBFA;\n",
              "      box-shadow: 0px 1px 2px rgba(60, 64, 67, 0.3), 0px 1px 3px 1px rgba(60, 64, 67, 0.15);\n",
              "      fill: #174EA6;\n",
              "    }\n",
              "\n",
              "    [theme=dark] .colab-df-convert {\n",
              "      background-color: #3B4455;\n",
              "      fill: #D2E3FC;\n",
              "    }\n",
              "\n",
              "    [theme=dark] .colab-df-convert:hover {\n",
              "      background-color: #434B5C;\n",
              "      box-shadow: 0px 1px 3px 1px rgba(0, 0, 0, 0.15);\n",
              "      filter: drop-shadow(0px 1px 2px rgba(0, 0, 0, 0.3));\n",
              "      fill: #FFFFFF;\n",
              "    }\n",
              "  </style>\n",
              "\n",
              "      <script>\n",
              "        const buttonEl =\n",
              "          document.querySelector('#df-76a033dc-40ab-4262-b192-c95b9c796561 button.colab-df-convert');\n",
              "        buttonEl.style.display =\n",
              "          google.colab.kernel.accessAllowed ? 'block' : 'none';\n",
              "\n",
              "        async function convertToInteractive(key) {\n",
              "          const element = document.querySelector('#df-76a033dc-40ab-4262-b192-c95b9c796561');\n",
              "          const dataTable =\n",
              "            await google.colab.kernel.invokeFunction('convertToInteractive',\n",
              "                                                     [key], {});\n",
              "          if (!dataTable) return;\n",
              "\n",
              "          const docLinkHtml = 'Like what you see? Visit the ' +\n",
              "            '<a target=\"_blank\" href=https://colab.research.google.com/notebooks/data_table.ipynb>data table notebook</a>'\n",
              "            + ' to learn more about interactive tables.';\n",
              "          element.innerHTML = '';\n",
              "          dataTable['output_type'] = 'display_data';\n",
              "          await google.colab.output.renderOutput(dataTable, element);\n",
              "          const docLink = document.createElement('div');\n",
              "          docLink.innerHTML = docLinkHtml;\n",
              "          element.appendChild(docLink);\n",
              "        }\n",
              "      </script>\n",
              "    </div>\n",
              "  </div>\n",
              "  "
            ],
            "text/plain": [
              "               Age          BMI     Children       Charges\n",
              "count  1338.000000  1338.000000  1295.000000   1338.000000\n",
              "mean     39.207025    30.663397     1.097297  13270.422265\n",
              "std      14.049960     6.098187     1.208465  12110.011237\n",
              "min      18.000000    15.960000     0.000000   1121.873900\n",
              "25%      27.000000    26.296250     0.000000   4740.287150\n",
              "50%      39.000000    30.400000     1.000000   9382.033000\n",
              "75%      51.000000    34.693750     2.000000  16639.912515\n",
              "max      64.000000    53.130000     5.000000  63770.428010"
            ]
          },
          "execution_count": 21,
          "metadata": {},
          "output_type": "execute_result"
        }
      ],
      "source": [
        "df.describe()\n"
      ]
    },
    {
      "cell_type": "code",
      "execution_count": null,
      "metadata": {
        "colab": {
          "base_uri": "https://localhost:8080/"
        },
        "id": "Yv_nuV9lbb5i",
        "outputId": "525bd175-6eff-4af3-dac8-da764fe8b24c"
      },
      "outputs": [
        {
          "name": "stdout",
          "output_type": "stream",
          "text": [
            "<class 'pandas.core.frame.DataFrame'>\n",
            "RangeIndex: 1338 entries, 0 to 1337\n",
            "Data columns (total 7 columns):\n",
            " #   Column    Non-Null Count  Dtype  \n",
            "---  ------    --------------  -----  \n",
            " 0   Age       1338 non-null   int64  \n",
            " 1   Gender    1338 non-null   object \n",
            " 2   BMI       1338 non-null   float64\n",
            " 3   Children  1295 non-null   float64\n",
            " 4   Smoker    1338 non-null   object \n",
            " 5   Region    1338 non-null   object \n",
            " 6   Charges   1338 non-null   float64\n",
            "dtypes: float64(3), int64(1), object(3)\n",
            "memory usage: 73.3+ KB\n"
          ]
        }
      ],
      "source": [
        "df.info()"
      ]
    },
    {
      "cell_type": "code",
      "execution_count": null,
      "metadata": {
        "colab": {
          "base_uri": "https://localhost:8080/"
        },
        "id": "M9d5ain9beKH",
        "outputId": "72b4bb93-7bc5-4f4d-e6a2-441ad010eb21"
      },
      "outputs": [
        {
          "data": {
            "text/plain": [
              "Age          0\n",
              "Gender       0\n",
              "BMI          0\n",
              "Children    43\n",
              "Smoker       0\n",
              "Region       0\n",
              "Charges      0\n",
              "dtype: int64"
            ]
          },
          "execution_count": 24,
          "metadata": {},
          "output_type": "execute_result"
        }
      ],
      "source": [
        "df.isnull().sum() #sum of Null Values "
      ]
    },
    {
      "cell_type": "code",
      "execution_count": null,
      "metadata": {
        "colab": {
          "base_uri": "https://localhost:8080/"
        },
        "id": "5STUXPNS1O9j",
        "outputId": "8bc4f293-a99e-44bd-9d1c-df01538518d6"
      },
      "outputs": [
        {
          "data": {
            "text/plain": [
              "1.0972972972972972"
            ]
          },
          "execution_count": 25,
          "metadata": {},
          "output_type": "execute_result"
        }
      ],
      "source": [
        "df[\"Children\"].mean() #mean - Regression Model , #mode -Classification Model"
      ]
    },
    {
      "cell_type": "code",
      "execution_count": null,
      "metadata": {
        "id": "RPGB2aSm1Y0_"
      },
      "outputs": [],
      "source": [
        "df[\"Children\"]=df[\"Children\"].fillna(1)  #Filling Missing Values"
      ]
    },
    {
      "cell_type": "code",
      "execution_count": null,
      "metadata": {
        "colab": {
          "base_uri": "https://localhost:8080/"
        },
        "id": "Xay7S0iX1puv",
        "outputId": "e0601514-a1bc-40a8-fc38-111373d9fe4f"
      },
      "outputs": [
        {
          "data": {
            "text/plain": [
              "Age         0\n",
              "Gender      0\n",
              "BMI         0\n",
              "Children    0\n",
              "Smoker      0\n",
              "Region      0\n",
              "Charges     0\n",
              "dtype: int64"
            ]
          },
          "execution_count": 27,
          "metadata": {},
          "output_type": "execute_result"
        }
      ],
      "source": [
        "df.isnull().sum()"
      ]
    },
    {
      "cell_type": "code",
      "execution_count": null,
      "metadata": {
        "colab": {
          "base_uri": "https://localhost:8080/",
          "height": 367
        },
        "id": "OkizOEyLeERo",
        "outputId": "532e6d6e-d219-4c4e-8cf4-9c23d29d671b"
      },
      "outputs": [
        {
          "data": {
            "text/plain": [
              "Text(0.5, 1.0, 'Gender Distribution')"
            ]
          },
          "execution_count": 28,
          "metadata": {},
          "output_type": "execute_result"
        },
        {
          "data": {
            "image/png": "[encoded data removed]",
            "text/plain": [
              "<Figure size 360x360 with 1 Axes>"
            ]
          },
          "metadata": {},
          "output_type": "display_data"
        }
      ],
      "source": [
        "plt.figure(figsize=(5,5))\n",
        "sns.countplot(x='Gender', data=df)\n",
        "plt.title('Gender Distribution')"
      ]
    },
    {
      "cell_type": "code",
      "execution_count": null,
      "metadata": {
        "colab": {
          "base_uri": "https://localhost:8080/",
          "height": 367
        },
        "id": "fqMU9uUYeTP1",
        "outputId": "834c3b7c-e94e-41e4-f487-5144cd6b3244"
      },
      "outputs": [
        {
          "data": {
            "text/plain": [
              "Text(0.5, 1.0, 'Smoker')"
            ]
          },
          "execution_count": 29,
          "metadata": {},
          "output_type": "execute_result"
        },
        {
          "data": {
            "image/png": "[encoded data removed]",
            "text/plain": [
              "<Figure size 360x360 with 1 Axes>"
            ]
          },
          "metadata": {},
          "output_type": "display_data"
        }
      ],
      "source": [
        "plt.figure(figsize=(5,5))\n",
        "sns.countplot(x='Smoker', data=df)\n",
        "plt.title('Smoker')\n"
      ]
    },
    {
      "cell_type": "code",
      "execution_count": null,
      "metadata": {
        "colab": {
          "base_uri": "https://localhost:8080/",
          "height": 367
        },
        "id": "B9IEeAY_ebP3",
        "outputId": "fdb214ad-23c4-450a-d869-8ce27f3773b1"
      },
      "outputs": [
        {
          "data": {
            "text/plain": [
              "Text(0.5, 1.0, 'Cost vs Region')"
            ]
          },
          "execution_count": 31,
          "metadata": {},
          "output_type": "execute_result"
        },
        {
          "data": {
            "image/png": "[encoded data removed]",
            "text/plain": [
              "<Figure size 360x360 with 1 Axes>"
            ]
          },
          "metadata": {},
          "output_type": "display_data"
        }
      ],
      "source": [
        "plt.figure(figsize=(5,5))\n",
        "sns.barplot(x='Region', y='Charges', data=df)\n",
        "plt.title('Cost vs Region')"
      ]
    },
    {
      "cell_type": "code",
      "execution_count": null,
      "metadata": {
        "colab": {
          "base_uri": "https://localhost:8080/",
          "height": 367
        },
        "id": "DWVLeYRMefzN",
        "outputId": "35897509-171e-4d12-8364-d396ee3bd4d7"
      },
      "outputs": [
        {
          "data": {
            "text/plain": [
              "Text(0.5, 1.0, 'Charges for smokers')"
            ]
          },
          "execution_count": 32,
          "metadata": {},
          "output_type": "execute_result"
        },
        {
          "data": {
            "image/png": "[encoded data removed]",
            "text/plain": [
              "<Figure size 360x360 with 1 Axes>"
            ]
          },
          "metadata": {},
          "output_type": "display_data"
        }
      ],
      "source": [
        "plt.figure(figsize=(5,5))\n",
        "sns.barplot(x='Gender', y='Charges', data=df)\n",
        "plt.title('Charges for smokers')"
      ]
    },
    {
      "cell_type": "code",
      "execution_count": null,
      "metadata": {
        "colab": {
          "base_uri": "https://localhost:8080/",
          "height": 608
        },
        "id": "0nTlI0Jpeh6S",
        "outputId": "24d4a9ee-44f2-4382-c853-727146c7bc0e"
      },
      "outputs": [
        {
          "data": {
            "image/png": "[encoded data removed]",
            "text/plain": [
              "<Figure size 720x720 with 4 Axes>"
            ]
          },
          "metadata": {},
          "output_type": "display_data"
        }
      ],
      "source": [
        "df[['Age','BMI','Children','Charges']].hist( figsize=(10,10), color='brown')\n",
        "plt.show()\n"
      ]
    },
    {
      "cell_type": "code",
      "execution_count": null,
      "metadata": {
        "colab": {
          "base_uri": "https://localhost:8080/",
          "height": 286
        },
        "id": "n6Tbil_UeqLc",
        "outputId": "d232da97-5c59-4b30-a455-cf378e836fdb"
      },
      "outputs": [
        {
          "data": {
            "text/plain": [
              "<matplotlib.axes._subplots.AxesSubplot at 0x7f386a614a60>"
            ]
          },
          "execution_count": 36,
          "metadata": {},
          "output_type": "execute_result"
        },
        {
          "data": {
            "image/png": "[encoded data removed]",
            "text/plain": [
              "<Figure size 432x288 with 2 Axes>"
            ]
          },
          "metadata": {},
          "output_type": "display_data"
        }
      ],
      "source": [
        "sns.heatmap(df.corr(),cmap='YlGn',annot=True)"
      ]
    },
    {
      "cell_type": "code",
      "execution_count": null,
      "metadata": {
        "id": "bgd2L3ip2RWB"
      },
      "outputs": [],
      "source": [
        "#mporting Machine Learning Libraries\n",
        "from sklearn.model_selection import train_test_split\n",
        "from sklearn.linear_model import LinearRegression\n",
        "from sklearn import metrics "
      ]
    },
    {
      "cell_type": "code",
      "execution_count": null,
      "metadata": {
        "id": "hQCVzjI3gAib"
      },
      "outputs": [],
      "source": [
        "# encoding sex column\n",
        "df.replace({'Gender':{'male':0,'female':1}}, inplace=True)\n",
        "\n",
        "# encoding 'smoker' column\n",
        "df.replace({'Smoker':{'yes':0,'no':1}}, inplace=True)\n",
        "\n",
        "\n",
        "# encoding 'region' column\n",
        "df.replace({'Region':{'southeast':0,'southwest':1,'northeast':2,'northwest':3}}, inplace=True)"
      ]
    },
    {
      "cell_type": "code",
      "execution_count": null,
      "metadata": {
        "id": "En-hWeZYhGU4"
      },
      "outputs": [],
      "source": [
        "# Making Two New Datasets[X,Y] from Exist one[Insurance]\n",
        "\n",
        "x = df.drop(columns='Charges', axis=1)\n",
        "y =df['Charges']"
      ]
    },
    {
      "cell_type": "code",
      "execution_count": null,
      "metadata": {
        "colab": {
          "base_uri": "https://localhost:8080/"
        },
        "id": "FWHz13C8hVX0",
        "outputId": "cd59a9c6-eb9c-4328-acf4-05171937f164"
      },
      "outputs": [
        {
          "name": "stdout",
          "output_type": "stream",
          "text": [
            "      Age  Gender     BMI  Children  Smoker  Region\n",
            "0      19       1  27.900       0.0       0       1\n",
            "1      18       0  33.770       1.0       1       0\n",
            "2      28       0  33.000       1.0       1       0\n",
            "3      33       0  22.705       0.0       1       3\n",
            "4      32       0  28.880       0.0       1       3\n",
            "...   ...     ...     ...       ...     ...     ...\n",
            "1333   50       0  30.970       3.0       1       3\n",
            "1334   18       1  31.920       0.0       1       2\n",
            "1335   18       1  36.850       0.0       1       0\n",
            "1336   21       1  25.800       1.0       1       1\n",
            "1337   61       1  29.070       0.0       0       3\n",
            "\n",
            "[1338 rows x 6 columns]\n"
          ]
        }
      ],
      "source": [
        "print(x)"
      ]
    },
    {
      "cell_type": "code",
      "execution_count": null,
      "metadata": {
        "colab": {
          "base_uri": "https://localhost:8080/"
        },
        "id": "zGb52XGPhXly",
        "outputId": "69ec2b4c-f6fe-4101-fe8c-2afd370ad573"
      },
      "outputs": [
        {
          "name": "stdout",
          "output_type": "stream",
          "text": [
            "0       16884.92400\n",
            "1        1725.55230\n",
            "2        4449.46200\n",
            "3       21984.47061\n",
            "4        3866.85520\n",
            "           ...     \n",
            "1333    10600.54830\n",
            "1334     2205.98080\n",
            "1335     1629.83350\n",
            "1336     2007.94500\n",
            "1337    29141.36030\n",
            "Name: Charges, Length: 1338, dtype: float64\n"
          ]
        }
      ],
      "source": [
        "print(y)"
      ]
    },
    {
      "cell_type": "code",
      "execution_count": null,
      "metadata": {
        "id": "eNPG8VwrhZpE"
      },
      "outputs": [],
      "source": [
        "#Training and Testing Variable\n",
        "x_train, x_test, y_train, y_test = train_test_split(x, y, test_size=0.2)"
      ]
    },
    {
      "cell_type": "code",
      "execution_count": null,
      "metadata": {
        "colab": {
          "base_uri": "https://localhost:8080/"
        },
        "id": "PPARIZ99hcK2",
        "outputId": "6bed34a5-b527-41c8-9d1e-5ff26780f1b8"
      },
      "outputs": [
        {
          "name": "stdout",
          "output_type": "stream",
          "text": [
            "(1338, 6) (1070, 6) (268, 6)\n"
          ]
        }
      ],
      "source": [
        "print(x.shape, x_train.shape, x_test.shape)"
      ]
    },
    {
      "cell_type": "code",
      "execution_count": null,
      "metadata": {
        "id": "8zaCu7ddhw7i"
      },
      "outputs": [],
      "source": [
        "reg = LinearRegression()"
      ]
    },
    {
      "cell_type": "code",
      "execution_count": null,
      "metadata": {
        "colab": {
          "base_uri": "https://localhost:8080/"
        },
        "id": "q1vKkcwAhzQO",
        "outputId": "d2c48e5a-98ec-4327-9b9f-0077afebb6e8"
      },
      "outputs": [
        {
          "data": {
            "text/plain": [
              "LinearRegression()"
            ]
          },
          "execution_count": 46,
          "metadata": {},
          "output_type": "execute_result"
        }
      ],
      "source": [
        "reg.fit(x_train, y_train)"
      ]
    },
    {
      "cell_type": "code",
      "execution_count": null,
      "metadata": {
        "id": "z_GVvK3fh79F"
      },
      "outputs": [],
      "source": [
        "training_data_prediction =reg.predict(x_train)"
      ]
    },
    {
      "cell_type": "code",
      "execution_count": null,
      "metadata": {
        "colab": {
          "base_uri": "https://localhost:8080/"
        },
        "id": "l5nvKOyxh_-8",
        "outputId": "72b27a35-14ed-40a7-d19e-2d0f67ed4c31"
      },
      "outputs": [
        {
          "name": "stdout",
          "output_type": "stream",
          "text": [
            "R squared vale for Training Data :  0.757389423041102\n"
          ]
        }
      ],
      "source": [
        "# R squared value\n",
        "r_train = metrics.r2_score(y_train, training_data_prediction)\n",
        "print('R squared vale for Training Data : ', r_train)"
      ]
    },
    {
      "cell_type": "code",
      "execution_count": null,
      "metadata": {
        "colab": {
          "background_save": true
        },
        "id": "vaira8f7mivL"
      },
      "outputs": [],
      "source": [
        "test_predict=reg.predict(x_test)"
      ]
    },
    {
      "cell_type": "code",
      "execution_count": null,
      "metadata": {
        "colab": {
          "background_save": true,
          "base_uri": "https://localhost:8080/"
        },
        "id": "A0spWBtLmkw4",
        "outputId": "6c937e5f-dec6-460f-d891-6914fa3d848d"
      },
      "outputs": [
        {
          "name": "stdout",
          "output_type": "stream",
          "text": [
            "R squared value for Testing Data :  0.7180409332559345\n"
          ]
        }
      ],
      "source": [
        "r_test= metrics.r2_score(y_test, test_predict)\n",
        "print('R squared vale for Testing Data : ', r_test)"
      ]
    },
    {
      "cell_type": "code",
      "execution_count": null,
      "metadata": {
        "colab": {
          "background_save": true,
          "base_uri": "https://localhost:8080/"
        },
        "id": "Q1eSly0W4-7Y",
        "outputId": "5f1753e3-ecdb-4da6-954b-aac9cefbc240"
      },
      "outputs": [
        {
          "name": "stdout",
          "output_type": "stream",
          "text": [
            "The insurance cost is USD  23048.700183398898\n"
          ]
        },
        {
          "name": "stderr",
          "output_type": "stream",
          "text": [
            "/usr/local/lib/python3.8/dist-packages/sklearn/base.py:450: UserWarning: X does not have valid feature names, but LinearRegression was fitted with feature names\n",
            "  warnings.warn(\n"
          ]
        }
      ],
      "source": [
        "input_data = (13,1,25.74,0,0,0)\n",
        "# x=input()\n",
        "# input = tuple(map(int, x.split(',')))\n",
        "\n",
        "# changing input_data to a numpy array\n",
        "input_data_as_numpy_array = np.asarray(input_data)\n",
        "\n",
        "# reshape the array\n",
        "input_data_reshaped = input_data_as_numpy_array.reshape(1,-1)\n",
        "\n",
        "prediction = reg.predict(input_data_reshaped)\n",
        "\n",
        "print('The insurance cost is USD ', prediction[0])"
      ]
    },
    {
      "cell_type": "code",
      "source": [],
      "metadata": {
        "id": "i-RX0TttBWWO"
      },
      "execution_count": null,
      "outputs": []
    },
    {
      "cell_type": "markdown",
      "source": [
        "Clustering\n"
      ],
      "metadata": {
        "id": "xnBX_GEHBTW1"
      }
    },
    {
      "cell_type": "code",
      "execution_count": null,
      "metadata": {
        "id": "O3skvhq9-RrK"
      },
      "outputs": [],
      "source": [
        "x= df.iloc[:250,[2,6,3]].values\n",
        "\n",
        "\n",
        "\n"
      ]
    },
    {
      "cell_type": "code",
      "execution_count": null,
      "metadata": {
        "colab": {
          "base_uri": "https://localhost:8080/"
        },
        "id": "qjCieOEaHnqB",
        "outputId": "8d35e5e0-6e0f-4b15-ac41-52177f801ce9"
      },
      "outputs": [
        {
          "data": {
            "text/plain": [
              "array([[2.79000000e+01, 1.68849240e+04, 0.00000000e+00],\n",
              "       [3.37700000e+01, 1.72555230e+03, 1.00000000e+00],\n",
              "       [3.30000000e+01, 4.44946200e+03, 1.00000000e+00],\n",
              "       [2.27050000e+01, 2.19844706e+04, 0.00000000e+00],\n",
              "       [2.88800000e+01, 3.86685520e+03, 0.00000000e+00],\n",
              "       [2.57400000e+01, 3.75662160e+03, 0.00000000e+00],\n",
              "       [3.34400000e+01, 8.24058960e+03, 1.00000000e+00],\n",
              "       [2.77400000e+01, 7.28150560e+03, 3.00000000e+00],\n",
              "       [2.98300000e+01, 6.40641070e+03, 2.00000000e+00],\n",
              "       [2.58400000e+01, 2.89231369e+04, 0.00000000e+00],\n",
              "       [2.62200000e+01, 2.72132080e+03, 0.00000000e+00],\n",
              "       [2.62900000e+01, 2.78087251e+04, 0.00000000e+00],\n",
              "       [3.44000000e+01, 1.82684300e+03, 0.00000000e+00],\n",
              "       [3.98200000e+01, 1.10907178e+04, 0.00000000e+00],\n",
              "       [4.21300000e+01, 3.96117577e+04, 1.00000000e+00],\n",
              "       [2.46000000e+01, 1.83723700e+03, 1.00000000e+00],\n",
              "       [3.07800000e+01, 1.07973362e+04, 1.00000000e+00],\n",
              "       [2.38450000e+01, 2.39517155e+03, 0.00000000e+00],\n",
              "       [4.03000000e+01, 1.06023850e+04, 0.00000000e+00],\n",
              "       [3.53000000e+01, 3.68374670e+04, 0.00000000e+00],\n",
              "       [3.60050000e+01, 1.32288469e+04, 0.00000000e+00],\n",
              "       [3.24000000e+01, 4.14973600e+03, 1.00000000e+00],\n",
              "       [3.41000000e+01, 1.13701100e+03, 0.00000000e+00],\n",
              "       [3.19200000e+01, 3.77018768e+04, 1.00000000e+00],\n",
              "       [2.80250000e+01, 6.20390175e+03, 2.00000000e+00],\n",
              "       [2.77200000e+01, 1.40011338e+04, 3.00000000e+00],\n",
              "       [2.30850000e+01, 1.44518352e+04, 0.00000000e+00],\n",
              "       [3.27750000e+01, 1.22686323e+04, 2.00000000e+00],\n",
              "       [1.73850000e+01, 2.77519215e+03, 1.00000000e+00],\n",
              "       [3.63000000e+01, 3.87110000e+04, 2.00000000e+00],\n",
              "       [3.56000000e+01, 3.55855760e+04, 0.00000000e+00],\n",
              "       [2.63150000e+01, 2.19818985e+03, 0.00000000e+00],\n",
              "       [2.86000000e+01, 4.68779700e+03, 5.00000000e+00],\n",
              "       [2.83100000e+01, 1.37700979e+04, 0.00000000e+00],\n",
              "       [3.64000000e+01, 5.11945591e+04, 1.00000000e+00],\n",
              "       [2.04250000e+01, 1.62543375e+03, 0.00000000e+00],\n",
              "       [3.29650000e+01, 1.56121933e+04, 3.00000000e+00],\n",
              "       [2.08000000e+01, 2.30230000e+03, 0.00000000e+00],\n",
              "       [3.66700000e+01, 3.97742763e+04, 1.00000000e+00],\n",
              "       [3.99000000e+01, 4.81733610e+04, 0.00000000e+00],\n",
              "       [2.66000000e+01, 3.04606200e+03, 0.00000000e+00],\n",
              "       [3.66300000e+01, 4.94975870e+03, 2.00000000e+00],\n",
              "       [2.17800000e+01, 6.27247720e+03, 1.00000000e+00],\n",
              "       [3.08000000e+01, 6.31375900e+03, 2.00000000e+00],\n",
              "       [3.70500000e+01, 6.07967150e+03, 1.00000000e+00],\n",
              "       [3.73000000e+01, 2.06302835e+04, 0.00000000e+00],\n",
              "       [3.86650000e+01, 3.39335635e+03, 1.00000000e+00],\n",
              "       [3.47700000e+01, 3.55692230e+03, 0.00000000e+00],\n",
              "       [2.45300000e+01, 1.26298967e+04, 0.00000000e+00],\n",
              "       [3.52000000e+01, 3.87091760e+04, 1.00000000e+00],\n",
              "       [3.56250000e+01, 2.21113075e+03, 0.00000000e+00],\n",
              "       [3.36300000e+01, 3.57982870e+03, 2.00000000e+00],\n",
              "       [2.80000000e+01, 2.35682720e+04, 1.00000000e+00],\n",
              "       [3.44300000e+01, 3.77425757e+04, 0.00000000e+00],\n",
              "       [2.86900000e+01, 8.05967910e+03, 3.00000000e+00],\n",
              "       [3.69550000e+01, 4.74964944e+04, 2.00000000e+00],\n",
              "       [3.18250000e+01, 1.36073687e+04, 2.00000000e+00],\n",
              "       [3.16800000e+01, 3.43031672e+04, 1.00000000e+00],\n",
              "       [2.28800000e+01, 2.32447902e+04, 1.00000000e+00],\n",
              "       [3.73350000e+01, 5.98952365e+03, 2.00000000e+00],\n",
              "       [2.73600000e+01, 8.60621740e+03, 3.00000000e+00],\n",
              "       [3.36600000e+01, 4.50466240e+03, 4.00000000e+00],\n",
              "       [2.47000000e+01, 3.01666182e+04, 1.00000000e+00],\n",
              "       [2.59350000e+01, 4.13364165e+03, 1.00000000e+00],\n",
              "       [2.24200000e+01, 1.47117438e+04, 0.00000000e+00],\n",
              "       [2.89000000e+01, 1.74321400e+03, 0.00000000e+00],\n",
              "       [3.91000000e+01, 1.42350720e+04, 2.00000000e+00],\n",
              "       [2.63150000e+01, 6.38937785e+03, 1.00000000e+00],\n",
              "       [3.61900000e+01, 5.92010410e+03, 0.00000000e+00],\n",
              "       [2.39800000e+01, 1.76631442e+04, 3.00000000e+00],\n",
              "       [2.47500000e+01, 1.65777795e+04, 0.00000000e+00],\n",
              "       [2.85000000e+01, 6.79945800e+03, 5.00000000e+00],\n",
              "       [2.81000000e+01, 1.17417260e+04, 3.00000000e+00],\n",
              "       [3.20100000e+01, 1.19466259e+04, 1.00000000e+00],\n",
              "       [2.74000000e+01, 7.72685400e+03, 2.00000000e+00],\n",
              "       [3.40100000e+01, 1.13566609e+04, 0.00000000e+00],\n",
              "       [2.95900000e+01, 3.94741310e+03, 1.00000000e+00],\n",
              "       [3.55300000e+01, 1.53246970e+03, 0.00000000e+00],\n",
              "       [3.98050000e+01, 2.75502095e+03, 0.00000000e+00],\n",
              "       [3.29650000e+01, 6.57102435e+03, 0.00000000e+00],\n",
              "       [2.68850000e+01, 4.44121315e+03, 1.00000000e+00],\n",
              "       [3.82850000e+01, 7.93529115e+03, 0.00000000e+00],\n",
              "       [3.76200000e+01, 3.71651638e+04, 1.00000000e+00],\n",
              "       [4.12300000e+01, 1.10336617e+04, 4.00000000e+00],\n",
              "       [3.48000000e+01, 3.98365190e+04, 2.00000000e+00],\n",
              "       [2.28950000e+01, 2.10985540e+04, 2.00000000e+00],\n",
              "       [3.11600000e+01, 4.35789394e+04, 0.00000000e+00],\n",
              "       [2.72000000e+01, 1.10731760e+04, 0.00000000e+00],\n",
              "       [2.77400000e+01, 8.02666660e+03, 0.00000000e+00],\n",
              "       [2.69800000e+01, 1.10825772e+04, 0.00000000e+00],\n",
              "       [3.94900000e+01, 2.02697410e+03, 0.00000000e+00],\n",
              "       [2.47950000e+01, 1.09421321e+04, 1.00000000e+00],\n",
              "       [2.98300000e+01, 3.01849367e+04, 3.00000000e+00],\n",
              "       [3.47700000e+01, 5.72900530e+03, 2.00000000e+00],\n",
              "       [3.13000000e+01, 4.72910550e+04, 2.00000000e+00],\n",
              "       [3.76200000e+01, 3.76688380e+03, 1.00000000e+00],\n",
              "       [3.08000000e+01, 1.21053200e+04, 3.00000000e+00],\n",
              "       [3.82800000e+01, 1.02262842e+04, 0.00000000e+00],\n",
              "       [1.99500000e+01, 2.24126485e+04, 0.00000000e+00],\n",
              "       [1.93000000e+01, 1.58206990e+04, 0.00000000e+00],\n",
              "       [3.16000000e+01, 6.18612700e+03, 0.00000000e+00],\n",
              "       [2.54600000e+01, 3.64508940e+03, 1.00000000e+00],\n",
              "       [3.01150000e+01, 2.13448467e+04, 0.00000000e+00],\n",
              "       [2.99200000e+01, 3.09421918e+04, 3.00000000e+00],\n",
              "       [2.75000000e+01, 5.00385300e+03, 1.00000000e+00],\n",
              "       [2.80250000e+01, 1.75603798e+04, 1.00000000e+00],\n",
              "       [2.84000000e+01, 2.33151900e+03, 1.00000000e+00],\n",
              "       [3.08750000e+01, 3.87730425e+03, 2.00000000e+00],\n",
              "       [2.79400000e+01, 2.86711960e+03, 0.00000000e+00],\n",
              "       [3.50900000e+01, 4.70555321e+04, 0.00000000e+00],\n",
              "       [3.36300000e+01, 1.08252537e+04, 1.00000000e+00],\n",
              "       [2.97000000e+01, 1.18813580e+04, 2.00000000e+00],\n",
              "       [3.08000000e+01, 4.64675900e+03, 0.00000000e+00],\n",
              "       [3.57200000e+01, 2.40473380e+03, 0.00000000e+00],\n",
              "       [3.22050000e+01, 1.14883170e+04, 1.00000000e+00],\n",
              "       [2.85950000e+01, 3.02599956e+04, 0.00000000e+00],\n",
              "       [4.90600000e+01, 1.13813254e+04, 0.00000000e+00],\n",
              "       [2.79400000e+01, 1.91077796e+04, 1.00000000e+00],\n",
              "       [2.71700000e+01, 8.60132930e+03, 0.00000000e+00],\n",
              "       [2.33700000e+01, 6.68643130e+03, 2.00000000e+00],\n",
              "       [3.71000000e+01, 7.74033700e+03, 2.00000000e+00],\n",
              "       [2.37500000e+01, 1.70562450e+03, 0.00000000e+00],\n",
              "       [2.89750000e+01, 2.25747525e+03, 0.00000000e+00],\n",
              "       [3.13500000e+01, 3.95564945e+04, 1.00000000e+00],\n",
              "       [3.39150000e+01, 1.01150089e+04, 3.00000000e+00],\n",
              "       [2.87850000e+01, 3.38539915e+03, 0.00000000e+00],\n",
              "       [2.83000000e+01, 1.70810800e+04, 0.00000000e+00],\n",
              "       [3.74000000e+01, 9.63453800e+03, 0.00000000e+00],\n",
              "       [1.77650000e+01, 3.27341863e+04, 2.00000000e+00],\n",
              "       [3.47000000e+01, 6.08240500e+03, 2.00000000e+00],\n",
              "       [2.65050000e+01, 1.28154449e+04, 0.00000000e+00],\n",
              "       [2.20400000e+01, 1.36163586e+04, 0.00000000e+00],\n",
              "       [3.59000000e+01, 1.11635680e+04, 2.00000000e+00],\n",
              "       [2.55550000e+01, 1.63256445e+03, 0.00000000e+00],\n",
              "       [2.87850000e+01, 2.45721115e+03, 0.00000000e+00],\n",
              "       [2.80500000e+01, 2.15568150e+03, 0.00000000e+00],\n",
              "       [3.41000000e+01, 1.26144200e+03, 0.00000000e+00],\n",
              "       [2.51750000e+01, 2.04568525e+03, 0.00000000e+00],\n",
              "       [3.19000000e+01, 2.73227339e+04, 3.00000000e+00],\n",
              "       [3.60000000e+01, 2.16673200e+03, 0.00000000e+00],\n",
              "       [2.24200000e+01, 2.73759048e+04, 2.00000000e+00],\n",
              "       [3.24900000e+01, 3.49054910e+03, 1.00000000e+00],\n",
              "       [2.53000000e+01, 1.89724950e+04, 2.00000000e+00],\n",
              "       [2.97350000e+01, 1.81578760e+04, 2.00000000e+00],\n",
              "       [2.86900000e+01, 2.07459891e+04, 3.00000000e+00],\n",
              "       [3.88300000e+01, 5.13825670e+03, 3.00000000e+00],\n",
              "       [3.04950000e+01, 4.07205511e+04, 3.00000000e+00],\n",
              "       [3.77300000e+01, 9.87760770e+03, 1.00000000e+00],\n",
              "       [3.74300000e+01, 1.09596947e+04, 1.00000000e+00],\n",
              "       [2.84000000e+01, 1.84251900e+03, 1.00000000e+00],\n",
              "       [2.41300000e+01, 5.12521570e+03, 1.00000000e+00],\n",
              "       [2.97000000e+01, 7.78963500e+03, 0.00000000e+00],\n",
              "       [3.71450000e+01, 6.33434355e+03, 3.00000000e+00],\n",
              "       [2.33700000e+01, 1.99647463e+04, 0.00000000e+00],\n",
              "       [2.54600000e+01, 7.07718940e+03, 1.00000000e+00],\n",
              "       [3.95200000e+01, 6.94870080e+03, 0.00000000e+00],\n",
              "       [2.44200000e+01, 2.12236758e+04, 0.00000000e+00],\n",
              "       [2.51750000e+01, 1.55181802e+04, 0.00000000e+00],\n",
              "       [3.55300000e+01, 3.69502567e+04, 0.00000000e+00],\n",
              "       [2.78300000e+01, 1.97493834e+04, 3.00000000e+00],\n",
              "       [2.66000000e+01, 2.13487060e+04, 0.00000000e+00],\n",
              "       [3.68500000e+01, 3.61494835e+04, 0.00000000e+00],\n",
              "       [3.96000000e+01, 1.04505520e+04, 1.00000000e+00],\n",
              "       [2.98000000e+01, 5.15213400e+03, 2.00000000e+00],\n",
              "       [2.96400000e+01, 5.02814660e+03, 0.00000000e+00],\n",
              "       [2.82150000e+01, 1.04070858e+04, 1.00000000e+00],\n",
              "       [3.70000000e+01, 4.83063000e+03, 5.00000000e+00],\n",
              "       [3.31550000e+01, 6.12879745e+03, 3.00000000e+00],\n",
              "       [3.18250000e+01, 2.71927975e+03, 1.00000000e+00],\n",
              "       [1.89050000e+01, 4.82790495e+03, 3.00000000e+00],\n",
              "       [4.14700000e+01, 1.34053903e+04, 0.00000000e+00],\n",
              "       [3.03000000e+01, 8.11668000e+03, 0.00000000e+00],\n",
              "       [1.59600000e+01, 1.69479640e+03, 0.00000000e+00],\n",
              "       [3.48000000e+01, 5.24604700e+03, 1.00000000e+00],\n",
              "       [3.33450000e+01, 2.85543755e+03, 0.00000000e+00],\n",
              "       [3.77000000e+01, 4.88244500e+04, 0.00000000e+00],\n",
              "       [2.78350000e+01, 6.45586265e+03, 1.00000000e+00],\n",
              "       [2.92000000e+01, 1.04360960e+04, 1.00000000e+00],\n",
              "       [2.89000000e+01, 8.82327900e+03, 2.00000000e+00],\n",
              "       [3.31550000e+01, 8.53828845e+03, 3.00000000e+00],\n",
              "       [2.85950000e+01, 1.17358790e+04, 1.00000000e+00],\n",
              "       [3.82800000e+01, 1.63182120e+03, 0.00000000e+00],\n",
              "       [1.99500000e+01, 4.00542250e+03, 3.00000000e+00],\n",
              "       [2.64100000e+01, 7.41947790e+03, 0.00000000e+00],\n",
              "       [3.06900000e+01, 7.73142710e+03, 2.00000000e+00],\n",
              "       [4.18950000e+01, 4.37533371e+04, 3.00000000e+00],\n",
              "       [2.99200000e+01, 3.98197680e+03, 2.00000000e+00],\n",
              "       [3.09000000e+01, 5.32565100e+03, 3.00000000e+00],\n",
              "       [3.22000000e+01, 6.77596100e+03, 1.00000000e+00],\n",
              "       [3.21100000e+01, 4.92291590e+03, 2.00000000e+00],\n",
              "       [3.15700000e+01, 1.25576053e+04, 0.00000000e+00],\n",
              "       [2.62000000e+01, 4.88386600e+03, 0.00000000e+00],\n",
              "       [2.57400000e+01, 2.13765360e+03, 0.00000000e+00],\n",
              "       [2.66000000e+01, 1.20443420e+04, 1.00000000e+00],\n",
              "       [3.44300000e+01, 1.13746970e+03, 0.00000000e+00],\n",
              "       [3.05900000e+01, 1.63956310e+03, 0.00000000e+00],\n",
              "       [3.28000000e+01, 5.64971500e+03, 0.00000000e+00],\n",
              "       [2.86000000e+01, 8.51682900e+03, 2.00000000e+00],\n",
              "       [1.80500000e+01, 9.64425250e+03, 0.00000000e+00],\n",
              "       [3.93300000e+01, 1.49015167e+04, 0.00000000e+00],\n",
              "       [3.21100000e+01, 2.13067590e+03, 0.00000000e+00],\n",
              "       [3.22300000e+01, 8.87115170e+03, 1.00000000e+00],\n",
              "       [2.40350000e+01, 1.30122087e+04, 0.00000000e+00],\n",
              "       [3.60800000e+01, 3.71338982e+04, 0.00000000e+00],\n",
              "       [2.23000000e+01, 7.14710500e+03, 0.00000000e+00],\n",
              "       [2.88800000e+01, 4.33773520e+03, 1.00000000e+00],\n",
              "       [2.64000000e+01, 1.17432990e+04, 0.00000000e+00],\n",
              "       [2.77400000e+01, 2.09840936e+04, 2.00000000e+00],\n",
              "       [3.18000000e+01, 1.38809490e+04, 0.00000000e+00],\n",
              "       [4.12300000e+01, 6.61010970e+03, 1.00000000e+00],\n",
              "       [3.30000000e+01, 1.98007000e+03, 1.00000000e+00],\n",
              "       [3.08750000e+01, 8.16271625e+03, 4.00000000e+00],\n",
              "       [2.85000000e+01, 3.53770300e+03, 2.00000000e+00],\n",
              "       [2.67300000e+01, 5.00278270e+03, 1.00000000e+00],\n",
              "       [3.09000000e+01, 8.52002600e+03, 2.00000000e+00],\n",
              "       [3.71000000e+01, 7.37177200e+03, 2.00000000e+00],\n",
              "       [2.66000000e+01, 1.03556410e+04, 0.00000000e+00],\n",
              "       [2.31000000e+01, 2.48373600e+03, 0.00000000e+00],\n",
              "       [2.99200000e+01, 3.39297680e+03, 1.00000000e+00],\n",
              "       [2.32100000e+01, 2.50817678e+04, 0.00000000e+00],\n",
              "       [3.37000000e+01, 5.01247100e+03, 1.00000000e+00],\n",
              "       [3.32500000e+01, 1.05648845e+04, 0.00000000e+00],\n",
              "       [3.08000000e+01, 5.25352400e+03, 3.00000000e+00],\n",
              "       [3.48000000e+01, 3.47796150e+04, 0.00000000e+00],\n",
              "       [2.46400000e+01, 1.95155416e+04, 1.00000000e+00],\n",
              "       [3.38800000e+01, 1.19871682e+04, 3.00000000e+00],\n",
              "       [3.80600000e+01, 2.68949540e+03, 0.00000000e+00],\n",
              "       [4.19100000e+01, 2.42273372e+04, 0.00000000e+00],\n",
              "       [3.16350000e+01, 7.35817565e+03, 1.00000000e+00],\n",
              "       [2.54600000e+01, 9.22525640e+03, 2.00000000e+00],\n",
              "       [3.61950000e+01, 7.44364305e+03, 1.00000000e+00],\n",
              "       [2.78300000e+01, 1.40012867e+04, 3.00000000e+00],\n",
              "       [1.78000000e+01, 1.72778500e+03, 0.00000000e+00],\n",
              "       [2.75000000e+01, 1.23338280e+04, 1.00000000e+00],\n",
              "       [2.45100000e+01, 6.71019190e+03, 2.00000000e+00],\n",
              "       [2.22200000e+01, 1.94442658e+04, 2.00000000e+00],\n",
              "       [2.67300000e+01, 1.61576670e+03, 0.00000000e+00],\n",
              "       [3.83900000e+01, 4.46320510e+03, 2.00000000e+00],\n",
              "       [2.90700000e+01, 1.73526803e+04, 0.00000000e+00],\n",
              "       [3.80600000e+01, 7.15267140e+03, 1.00000000e+00],\n",
              "       [3.66700000e+01, 3.85116283e+04, 2.00000000e+00],\n",
              "       [2.21350000e+01, 5.35407465e+03, 1.00000000e+00],\n",
              "       [2.68000000e+01, 3.51601346e+04, 1.00000000e+00],\n",
              "       [3.53000000e+01, 7.19686700e+03, 3.00000000e+00],\n",
              "       [2.77400000e+01, 2.95231656e+04, 0.00000000e+00],\n",
              "       [3.00200000e+01, 2.44764785e+04, 0.00000000e+00],\n",
              "       [3.80600000e+01, 1.26487034e+04, 0.00000000e+00],\n",
              "       [3.58600000e+01, 1.98693340e+03, 0.00000000e+00],\n",
              "       [2.09000000e+01, 1.83209400e+03, 1.00000000e+00],\n",
              "       [2.89750000e+01, 4.04055825e+03, 1.00000000e+00]])"
            ]
          },
          "execution_count": 109,
          "metadata": {},
          "output_type": "execute_result"
        }
      ],
      "source": [
        "x"
      ]
    },
    {
      "cell_type": "code",
      "execution_count": null,
      "metadata": {
        "id": "AQipvmtgHoM5"
      },
      "outputs": [],
      "source": [
        "from sklearn.cluster import KMeans\n",
        "wcss=[]"
      ]
    },
    {
      "cell_type": "code",
      "execution_count": null,
      "metadata": {
        "id": "r2argwYPHt5m"
      },
      "outputs": [],
      "source": [
        "for i in range(1,11):\n",
        "  kmeans=KMeans(n_clusters=i,init=\"k-means++\",random_state=0)\n",
        "  kmeans.fit(x)\n",
        "  wcss.append(kmeans.inertia_)"
      ]
    },
    {
      "cell_type": "code",
      "execution_count": null,
      "metadata": {
        "colab": {
          "base_uri": "https://localhost:8080/",
          "height": 295
        },
        "id": "JaP1KwfOHvfa",
        "outputId": "6c77f065-3122-4783-bdca-d3762403301e"
      },
      "outputs": [
        {
          "data": {
            "image/png": "[encoded data removed]",
            "text/plain": [
              "<Figure size 432x288 with 1 Axes>"
            ]
          },
          "metadata": {},
          "output_type": "display_data"
        }
      ],
      "source": [
        "plt.plot(range(1,11),wcss)\n",
        "plt.title(\"The Elbow Method\")\n",
        "plt.xlabel(\"No of Clusters\")\n",
        "plt.ylabel(\"WCSS Values\")\n",
        "plt.show()"
      ]
    },
    {
      "cell_type": "code",
      "execution_count": null,
      "metadata": {
        "id": "H6Fj_Q_4HxJt"
      },
      "outputs": [],
      "source": [
        "model=KMeans(n_clusters=3,init='k-means++',random_state=0)\n",
        "y_kmeans=model.fit_predict(x)"
      ]
    },
    {
      "cell_type": "code",
      "execution_count": null,
      "metadata": {
        "colab": {
          "base_uri": "https://localhost:8080/",
          "height": 497
        },
        "id": "9NVmzVzEHy6y",
        "outputId": "30a86f25-0e9c-4a74-fd91-29dc0b9728e1"
      },
      "outputs": [
        {
          "data": {
            "text/plain": [
              "Text(0, 0.5, 'Chargers')"
            ]
          },
          "execution_count": 114,
          "metadata": {},
          "output_type": "execute_result"
        },
        {
          "data": {
            "image/png": "[encoded data removed]",
            "text/plain": [
              "<Figure size 1296x720 with 1 Axes>"
            ]
          },
          "metadata": {},
          "output_type": "display_data"
        }
      ],
      "source": [
        "plt.figure(figsize=(18,10))\n",
        "plt.scatter(x[y_kmeans==0,0],x[y_kmeans==0,1],s=80,c=\"maroon\")\n",
        "plt.scatter(x[y_kmeans==1,0],x[y_kmeans==1,1],s=80,c=\"blue\")\n",
        "plt.scatter(x[y_kmeans==2,0],x[y_kmeans==2,1],s=80,c=\"tan\")\n",
        "plt.title(\"Clustering\")\n",
        "plt.xlabel(\"BMI\")\n",
        "plt.ylabel(\"Chargers\")"
      ]
    },
    {
      "cell_type": "code",
      "execution_count": null,
      "metadata": {
        "id": "tvd1DjqKH440"
      },
      "outputs": [],
      "source": []
    }
  ],
  "metadata": {
    "colab": {
      "provenance": [],
      "include_colab_link": true
    },
    "kernelspec": {
      "display_name": "Python 3",
      "name": "python3"
    },
    "language_info": {
      "name": "python"
    }
  },
  "nbformat": 4,
  "nbformat_minor": 0
}